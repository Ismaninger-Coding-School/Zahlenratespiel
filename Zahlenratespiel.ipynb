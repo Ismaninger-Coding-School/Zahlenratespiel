{
 "cells": [
  {
   "cell_type": "code",
   "execution_count": 34,
   "metadata": {},
   "outputs": [
    {
     "name": "stdout",
     "output_type": "stream",
     "text": [
      "9\n",
      "12\n",
      "17\n",
      "True\n"
     ]
    }
   ],
   "source": [
    "#Variablen\n",
    "#test\n",
    "\n",
    "#Wie speichert das Computerprogramm Daten? Antwort: Variablen\n",
    "#Wie sieht das in Python aus? Antwort: Name = Wert\n",
    "#Der Wert kann z.B. eine Zahl, ein Wort oder ein Wahrheitswert (Wahr (englisch: True), Falsch (englisch: False))\n",
    "#sein\n",
    "#Beispiele: \n",
    "Alter = 12 \n",
    "Name = \"Lara\" \n",
    "verheiratet = False\n",
    "\n",
    "#Variablen kann man ändern: \n",
    "a = 9\n",
    "print(a)\n",
    "a = 12\n",
    "print(a)\n",
    "\n",
    "#Man kann mit ihnen rechnen, sie vergleichen und vieles mehr\n",
    "b = 5\n",
    "c = a + b\n",
    "print(c)\n",
    "print (c > b)\n",
    "\n"
   ]
  },
  {
   "cell_type": "code",
   "execution_count": 25,
   "metadata": {},
   "outputs": [
    {
     "name": "stdout",
     "output_type": "stream",
     "text": [
      "Hallo\n",
      "Meine Zahl ist 7\n"
     ]
    }
   ],
   "source": [
    "#print\n",
    "\n",
    "#wenn man etwas mit Python ausgeben möchte, benutzt man dafür print(Ausgabe) \n",
    "#Beispiel:\n",
    "\n",
    "print(\"Hallo\")\n",
    "\n",
    "#Möchte man Text und eine Variable ausgeben, trennt man diese mit einem Komma.\n",
    "#Beispiel:\n",
    "\n",
    "meine_zahl = 7\n",
    "print(\"Meine Zahl ist\",meine_zahl)\n"
   ]
  },
  {
   "cell_type": "code",
   "execution_count": 26,
   "metadata": {},
   "outputs": [],
   "source": [
    "#Übung print und Variablen:\n",
    "\n",
    "#Speichere deine Lieblingsfarbe in der Variable \"meine_lieblingsfarbe\". Gib dann mithilfe von print() aus:\n",
    "#\"Meine Lieblingsfarbe ist ...\" (statt ... soll natürlich deine Lieblingsfarbe ausgegeben werden)"
   ]
  },
  {
   "cell_type": "code",
   "execution_count": 33,
   "metadata": {},
   "outputs": [
    {
     "name": "stdout",
     "output_type": "stream",
     "text": [
      "a ist 5\n",
      "a ist nicht 5\n",
      "b ist 5\n"
     ]
    }
   ],
   "source": [
    "#if - else:\n",
    "\n",
    "#Bedeutet so viel wie Entweder - Oder\n",
    "#Beispiel:\n",
    "a = 5\n",
    "if a == 5:\n",
    "    print(\"a ist 5\")\n",
    "else:\n",
    "    print(\"a ist nicht 5\")\n",
    "\n",
    "a = 6\n",
    "if a == 5:\n",
    "    print(\"a ist 5\")\n",
    "else:\n",
    "    print(\"a ist nicht 5\")\n",
    "\n",
    "#je nachdem, was gerade für a zutrifft, wird entweder der Code hinter dem if oder hinter dem else ausgeführt\n",
    "#Man kann auch mehrere Bedingungen haben. Dann benutzt man elif:\n",
    "\n",
    "a = 6\n",
    "b = 6\n",
    "\n",
    "if a == 5:\n",
    "    print(\"a ist 5\")\n",
    "elif b == 6:\n",
    "    print(\"b ist 5\")\n",
    "else:\n",
    "    print(\"a ist nicht 5\")\n"
   ]
  },
  {
   "cell_type": "code",
   "execution_count": 27,
   "metadata": {},
   "outputs": [],
   "source": [
    "#Übung if - else:\n",
    "\n",
    "#Überlege dir zwei Zahlen und speichere diese in den Variablen a und b. Prüfe dann mithile von if und else, \n",
    "#welche die größere der beiden Zahlen ist. Wenn a größer als b, dann gib \"a ist größer\" aus. Wenn b größer ist,\n",
    "#gib \"b ist größer\" aus."
   ]
  },
  {
   "cell_type": "code",
   "execution_count": 28,
   "metadata": {},
   "outputs": [
    {
     "name": "stdout",
     "output_type": "stream",
     "text": [
      "3 3\n"
     ]
    }
   ],
   "source": [
    "#while\n",
    "\n",
    "#Wenn man die gleiche Anweisung mehrfach ausführen möchte, bis eine gewisse Bedingung erfüllt ist, nutzt man so\n",
    "#genannte Schleifen\n",
    "#Beispiel 1:\n",
    "\n",
    "a = 5\n",
    "b = 3\n",
    "\n",
    "while a > b:\n",
    "    a = a - 1\n",
    "print(a,b)\n"
   ]
  },
  {
   "cell_type": "code",
   "execution_count": 29,
   "metadata": {},
   "outputs": [
    {
     "name": "stdout",
     "output_type": "stream",
     "text": [
      "3 3\n"
     ]
    }
   ],
   "source": [
    "#Beispiel 2:\n",
    "\n",
    "a = 5\n",
    "b = 3\n",
    "a_größer = True\n",
    "\n",
    "while a_größer:\n",
    "    a = a - 1\n",
    "    if a == b:\n",
    "        a_größer = False\n",
    "        \n",
    "print(a,b)"
   ]
  },
  {
   "cell_type": "code",
   "execution_count": 30,
   "metadata": {},
   "outputs": [],
   "source": [
    "#Übung while\n",
    "#1. Speichere den Wert 5 in der Variable \"a\".\n",
    "#2. Erstelle eine while - Schleife, die so lange läuft, wie a größer als 0 ist.\n",
    "#3. Gib in jedem Schleifendurchgang den aktuellen Wert von a aus. Dann verringere a um eins.\n",
    "#4. Wenn die Schleife verlassen wurde,  gib \"while-Schleife beendet\" aus."
   ]
  },
  {
   "cell_type": "code",
   "execution_count": 14,
   "metadata": {},
   "outputs": [
    {
     "name": "stdout",
     "output_type": "stream",
     "text": [
      "Bitte gib eine Zahl an: 5\n",
      "7\n"
     ]
    }
   ],
   "source": [
    "#Eingabe\n",
    "\n",
    "#Wenn man möchte, dass der Benutzer etwas eingeben kann, nutzt man input().\n",
    "\n",
    "eingabe = input(\"Bitte gib eine Zahl an: \")\n",
    "           \n",
    "#Der Computer speichert die Eingabe immer als Wort, sogar wenn man eine Zahl eingibt. Damit der Computer weiß,\n",
    "#dass er die Eingabe als eine Zahl und nicht als ein Wort speicher soll, benutzt man die Funktion int() zur \n",
    "#Umwandlung\n",
    "\n",
    "zahl = int(eingabe)\n",
    "                \n",
    "#Man kann natürlich auch direkt schreiben: zahl = int(input(\"Bitte gib eine Zahl an: \"))"
   ]
  },
  {
   "cell_type": "code",
   "execution_count": null,
   "metadata": {},
   "outputs": [],
   "source": [
    "#Übung:\n",
    "\n",
    "#Benutze input() um den Benutzer nach seinem Namen zu fragen und speichere diesen Namen in der Variable \"name\"."
   ]
  },
  {
   "cell_type": "code",
   "execution_count": 31,
   "metadata": {},
   "outputs": [
    {
     "name": "stdout",
     "output_type": "stream",
     "text": [
      "26\n"
     ]
    }
   ],
   "source": [
    "#Random-Bibliothek\n",
    "\n",
    "#es gibt sogenannte Bibliotheken, in denen man alle relevanten Befehle zu einem bestimmten Gebiet findet\n",
    "#Beispielsweise gibt es eine Bibliothek math, in der viele relevante mathematische Funktionen und Zahlen \n",
    "#gespeichert sind.\n",
    "#Ein anderes Beispiel ist die Bibliothek random (deutsch: zufällig). Diese benötigt man, wenn man zufällige \n",
    "#Zahlen generieren möchte. Um eine Bibliothek benutzen zu können, muss man import Bibliothek schreiben.\n",
    "#Beispiel:\n",
    "\n",
    "import random\n",
    "\n",
    "\n",
    "#Um auf eine Funktion einer Bibliothek zuzugreifen, muss man den Bibliotheksnamen.Funktion schreiben. Der \n",
    "#randint - Funktion muss man zusätzlich noch sagen, in welchem Zahlenbereich die zufällige Zahl liegen soll.\n",
    "\n",
    "\n",
    "a = random.randint(0,50)\n",
    "print(a)"
   ]
  },
  {
   "cell_type": "code",
   "execution_count": 32,
   "metadata": {},
   "outputs": [],
   "source": [
    "#Übung random:\n",
    "\n",
    "#Speichere eine Zahl zwischen 5 und 10 in der Variable \"zufallszahl\" und gib diese aus."
   ]
  },
  {
   "cell_type": "code",
   "execution_count": 18,
   "metadata": {},
   "outputs": [],
   "source": [
    "#Erstelle ein Zahlenratespiel\n",
    "\n",
    "#1. Nutze die random Bibliothek, um eine zufällige Zahl zwischen 0 und 50 zu erstellen. Speichere diese Zahl in\n",
    "#der Variable \"zufallszahl\".\n",
    "#2. Erstelle eine Variable \"zähler\", in der du speicherst, wie viele Versuche man für das Erraten der Zahl \n",
    "#bekommt und eine Variable \"zahl_nicht_gefunden\", in der du zunächst einmal \"True\" speicherst. Diese Variable\n",
    "#soll später zu False geändert werden, sobald die richtige Zahl gefunden wurde (jetzt aber noch nicht).\n",
    "#3. Fordere den Benutzer auf, eine Zahl einzugeben und speichere diese in einer Variable \"eingabe\".\n",
    "#4. Prüfe mithilfe von if und else, ob die eingegebene Zahl die richtige ist. Sollte sie zu klein oder zu groß \n",
    "#sein, gib mithilfe von print() einen Tipp aus, der sagt, ob die Zahl zu groß oder zu klein ist. Wurde die \n",
    "#richtige Zahl erraten, gib dies mithilfe von print() aus.\n",
    "#5. Packe alles, was mehrmals ausgeführt werden soll in eine while - Schleife. Die while - Schleife soll so \n",
    "#lange laufen, wie die Zahl nicht gefunden wurde. Setze also die Variable \"zahl_nicht_gefunden\" auf True, \n",
    "#sobald die Zahl gefunden wurde.\n",
    "#6.Verringere den Zähler, in dem gespeichert ist, wie viele Versuche man hat, jedes Mal, wenn eine falsche \n",
    "#Zahl eingegeben wurde. Ist der Zähler 0, beende die while-Schleife und gib die richtige Zahl aus.\n"
   ]
  },
  {
   "cell_type": "code",
   "execution_count": 57,
   "metadata": {},
   "outputs": [
    {
     "name": "stdout",
     "output_type": "stream",
     "text": [
      "Bitte gib eine Zahl ein: 25\n",
      "Die eingegebene Zahl ist zu klein\n",
      "Bitte gib eine Zahl ein: 38\n",
      "Die eingegebene Zahl ist zu klein\n",
      "Bitte gib eine Zahl ein: 43\n",
      "Richtig!\n"
     ]
    }
   ],
   "source": [
    "import random\n",
    "\n",
    "zahl = random.randint(0,50)\n",
    "nicht_gefunden = True\n",
    "zähler = 7\n",
    "while nicht_gefunden:\n",
    "    eingabe = int(input(\"Bitte gib eine Zahl ein: \"))\n",
    "    if (eingabe==zahl):\n",
    "        print(\"Richtig!\")\n",
    "        nicht_gefunden = False\n",
    "    elif(eingabe > zahl):\n",
    "        zähler = zähler - 1 \n",
    "        print(\"Die eingegebene Zahl ist zu groß\")\n",
    "    else:\n",
    "        zähler = zähler - 1 \n",
    "        print(\"Die eingegebene Zahl ist zu klein\")\n",
    "    if (zähler <= 0 and nicht_gefunden):\n",
    "        print(\"Du hast verloren! Die richtige Zahl wäre\", zahl, \"gewesen.\")\n",
    "        nicht_gefunden = False        \n"
   ]
  }
 ],
 "metadata": {
  "kernelspec": {
   "display_name": "Python 3",
   "language": "python",
   "name": "python3"
  },
  "language_info": {
   "codemirror_mode": {
    "name": "ipython",
    "version": 3
   },
   "file_extension": ".py",
   "mimetype": "text/x-python",
   "name": "python",
   "nbconvert_exporter": "python",
   "pygments_lexer": "ipython3",
   "version": "3.7.3"
  }
 },
 "nbformat": 4,
 "nbformat_minor": 4
}
