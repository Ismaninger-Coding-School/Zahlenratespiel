{
 "cells": [
  {
   "cell_type": "code",
   "execution_count": 34,
   "metadata": {},
   "outputs": [
    {
     "name": "stdout",
     "output_type": "stream",
     "text": [
      "Hallo\n"
     ]
    }
   ],
   "source": [
    "#print\n",
    "\n",
    "#wenn man etwas mit Python ausgeben möchte, benutzt man dafür print(Ausgabe)\n",
    "#Beispiel:\n",
    "\n",
    "print(\"Hallo\")"
   ]
  },
  {
   "cell_type": "code",
   "execution_count": 27,
   "metadata": {},
   "outputs": [
    {
     "name": "stdout",
     "output_type": "stream",
     "text": [
      "9\n",
      "12\n",
      "17\n",
      "True\n"
     ]
    }
   ],
   "source": [
    "#Variablen\n",
    "\n",
    "#Wie speichert das Computerprogramm Daten? Antwort: Variablen\n",
    "#Wie sieht das in Python aus? Antwort: Name = Wert\n",
    "#Der Wert kann z.B. eine Zahl, ein Wort oder ein Wahrheitswert (Wahr (englisch: True), Falsch (englisch: False))\n",
    "#sein\n",
    "#Beispiele: \n",
    "Alter = 12 \n",
    "Name = \"Lara\" \n",
    "verheiratet = False\n",
    "\n",
    "#Variablen kann man ändern: \n",
    "a = 9\n",
    "print(a)\n",
    "a = 12\n",
    "print(a)\n",
    "\n",
    "#Man kann mit ihnen rechnen, sie vergleichen und vieles mehr\n",
    "b = 5\n",
    "c = a + b\n",
    "print(c)\n",
    "print (c > b)\n",
    "\n"
   ]
  },
  {
   "cell_type": "code",
   "execution_count": 33,
   "metadata": {},
   "outputs": [
    {
     "name": "stdout",
     "output_type": "stream",
     "text": [
      "a ist 5\n",
      "a ist nicht 5\n",
      "b ist 5\n"
     ]
    }
   ],
   "source": [
    "#if - else:\n",
    "\n",
    "#Bedeutet so viel wie Entweder - Oder\n",
    "#Beispiel:\n",
    "a = 5\n",
    "if a==5:\n",
    "    print(\"a ist 5\")\n",
    "else:\n",
    "    print(\"a ist nicht 5\")\n",
    "\n",
    "a = 6\n",
    "if a==5:\n",
    "    print(\"a ist 5\")\n",
    "else:\n",
    "    print(\"a ist nicht 5\")\n",
    "\n",
    "#je nachdem, was gerade für a zutrifft, wird ein Teil des Codes ausgeführt\n",
    "#man kann auch mehr als eine Bedingung abfragen mithilfe von elif\n",
    "\n",
    "a = 6\n",
    "b = 6\n",
    "\n",
    "if a==5:\n",
    "    print(\"a ist 5\")\n",
    "elif b==6:\n",
    "    print(\"b ist 5\")\n",
    "else:\n",
    "    print(\"a ist nicht 5\")\n"
   ]
  },
  {
   "cell_type": "code",
   "execution_count": 36,
   "metadata": {},
   "outputs": [
    {
     "name": "stdout",
     "output_type": "stream",
     "text": [
      "5\n",
      "4\n",
      "3\n",
      "2\n",
      "1\n",
      "while Schleife beendet\n"
     ]
    }
   ],
   "source": [
    "#while\n",
    "\n",
    "#Wenn man die gleiche Anweisung mehrfach ausführen möchte, bis eine gewisse Bedingung erfüllt ist, nutzt man so\n",
    "#genannte Schleifen\n",
    "\n",
    "a = 5\n",
    "while a > 0:\n",
    "    print(a)\n",
    "    a = a - 1\n",
    "print(\"while Schleife beendet\")"
   ]
  },
  {
   "cell_type": "code",
   "execution_count": 53,
   "metadata": {},
   "outputs": [],
   "source": [
    "#Eingabe\n",
    "\n",
    "#Wenn man Nutzereingabe haben möchte, nutzt man input()"
   ]
  },
  {
   "cell_type": "code",
   "execution_count": 42,
   "metadata": {},
   "outputs": [
    {
     "name": "stdout",
     "output_type": "stream",
     "text": [
      "0\n"
     ]
    }
   ],
   "source": [
    "#Random-Bibliothek\n",
    "\n",
    "#es gibt sogenannte Bibliotheken, in denen man alle relevanten Befehle zu einem bestimmten Gebiet findet\n",
    "#Beispielsweise gibt es eine Bibliothek math, in der viele relevante mathematische Funktionen und Zahlen \n",
    "#gespeichert sind.\n",
    "#Ein anderes Beispiel ist die Bibliothek random (deutsch: zufällig). Diese benötigt man, wenn man zufällige \n",
    "#Zahlen generieren möchte. Um eine Bibliothek benutzen zu können, muss man import Bibliothek schreiben.\n",
    "#Beispiel:\n",
    "import random\n",
    "\n",
    "a = random.randint(0,50)\n",
    "print(a)\n",
    "\n",
    "#Um auf eine Funktion einer Bibliothek zuzugreifen, muss man den Bibliotheksnamen.Funktion schreiben. Der \n",
    "#randint - Funktion muss man zusätzlich noch sagen, in welchem Zahlenbereich die zufällige Zahl liegen soll."
   ]
  },
  {
   "cell_type": "code",
   "execution_count": 54,
   "metadata": {},
   "outputs": [],
   "source": [
    "#Erstelle ein Zahlenratespiel\n",
    "\n",
    "#1. Generiere eine Zahl zwischen 0 und 50 und speichere diese in einer Variable\n",
    "#2. Erstelle eine Variable \"zähler\", in der du speicherst, wie viele Versuche man für das Erraten der Zahl \n",
    "#bekommt.\n",
    "#3. Erstelle eine while - Schleife, die so lange läuft, wie die richtige Zahl nicht gefunden wurde.\n",
    "#4. Fordere den Benutzer auf, eine Zahl einzugeben\n",
    "#5. Prüfe mithilfe von if und else, ob die eingegebene Zahl die richtige ist. Sollte sie zu klein oder zu groß \n",
    "#sein, gib mithilfe von print() einen Tipp aus, der sagt, ob die Zahl zu groß oder zu klein ist. Ist es die \n",
    "#Zahl gib dies mithilfe von print() aus und beende die while-Schleife.\n",
    "#6.Verringere den Zähler jedes Mal, wenn eine falsche Zahl eingegeben wurde. Ist der Zähler 0, beende die\n",
    "#while-Schleife und gib die richtige Zahl aus."
   ]
  },
  {
   "cell_type": "code",
   "execution_count": 57,
   "metadata": {},
   "outputs": [
    {
     "name": "stdout",
     "output_type": "stream",
     "text": [
      "Bitte gib eine Zahl ein: 25\n",
      "Die eingegebene Zahl ist zu klein\n",
      "Bitte gib eine Zahl ein: 38\n",
      "Die eingegebene Zahl ist zu klein\n",
      "Bitte gib eine Zahl ein: 43\n",
      "Richtig!\n"
     ]
    }
   ],
   "source": [
    "import random\n",
    "\n",
    "zahl = random.randint(0,50)\n",
    "nicht_gefunden = True\n",
    "zähler = 7\n",
    "while nicht_gefunden:\n",
    "    eingabe = int(input(\"Bitte gib eine Zahl ein: \"))\n",
    "    if (eingabe==zahl):\n",
    "        print(\"Richtig!\")\n",
    "        nicht_gefunden = False\n",
    "    elif(eingabe > zahl):\n",
    "        zähler = zähler - 1 \n",
    "        print(\"Die eingegebene Zahl ist zu groß\")\n",
    "    else:\n",
    "        zähler = zähler - 1 \n",
    "        print(\"Die eingegebene Zahl ist zu klein\")\n",
    "    if (zähler <= 0):\n",
    "        print(\"Du hast verloren! Die richtige Zahl wäre\", zahl, \"gewesen.\")\n",
    "        nicht_gefunden = False        \n"
   ]
  },
  {
   "cell_type": "code",
   "execution_count": null,
   "metadata": {},
   "outputs": [],
   "source": []
  }
 ],
 "metadata": {
  "kernelspec": {
   "display_name": "Python 3",
   "language": "python",
   "name": "python3"
  },
  "language_info": {
   "codemirror_mode": {
    "name": "ipython",
    "version": 3
   },
   "file_extension": ".py",
   "mimetype": "text/x-python",
   "name": "python",
   "nbconvert_exporter": "python",
   "pygments_lexer": "ipython3",
   "version": "3.7.3"
  }
 },
 "nbformat": 4,
 "nbformat_minor": 4
}
